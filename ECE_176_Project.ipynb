{
 "cells": [
  {
   "cell_type": "markdown",
   "id": "507c7231",
   "metadata": {},
   "source": [
    "<h1 align=\"center\">ECE 176 Project</h1>\n",
    "\n",
    "# Table of Contents\n",
    "\n",
    "1. Dataset Preparation: we will implement an American Sign Language (ASL) alphabet library.\n",
    "2. Model: create a neural network architecture for our dataset.\n",
    "3. Finetuning: find ways to improve the model.\n",
    "4. Test/Visuals: create tests and look at which ASL letters were best recognized and why.\n",
    "5. Conclusion/Discussion: discussion of results and possible further study.\n",
    "\n"
   ]
  },
  {
   "cell_type": "markdown",
   "id": "5a5e48f4",
   "metadata": {},
   "source": [
    "# Dataset Preparation\n",
    "\n",
    "Initially, we will focus on implementing an American Sign Language (ASL) alphabet library. This involves loading the ASL alphabet dataset, a step that may require a few minutes upon the first attempt. Subsequently, the data will be cached, ensuring quicker access in future sessions. \n"
   ]
  },
  {
   "cell_type": "code",
   "execution_count": null,
   "id": "d08aa86b",
   "metadata": {},
   "outputs": [],
   "source": [
    "#Initial Commit"
   ]
  }
 ],
 "metadata": {
  "kernelspec": {
   "display_name": "Python 3 (ipykernel)",
   "language": "python",
   "name": "python3"
  },
  "language_info": {
   "codemirror_mode": {
    "name": "ipython",
    "version": 3
   },
   "file_extension": ".py",
   "mimetype": "text/x-python",
   "name": "python",
   "nbconvert_exporter": "python",
   "pygments_lexer": "ipython3",
   "version": "3.9.5"
  }
 },
 "nbformat": 4,
 "nbformat_minor": 5
}
